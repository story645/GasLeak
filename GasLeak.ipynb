{
 "cells": [
  {
   "cell_type": "code",
   "execution_count": 4,
   "metadata": {},
   "outputs": [],
   "source": [
    "import pandas as pd\n",
    "from sodapy import Socrata"
   ]
  },
  {
   "cell_type": "code",
   "execution_count": 6,
   "metadata": {},
   "outputs": [
    {
     "name": "stdout",
     "output_type": "stream",
     "text": [
      "importing Jupyter notebook from NYC_opendata_apitoken.ipynb\n"
     ]
    }
   ],
   "source": [
    "import import_ipynb\n",
    "import NYC_opendata_apitoken"
   ]
  },
  {
   "cell_type": "code",
   "execution_count": null,
   "metadata": {},
   "outputs": [],
   "source": [
    "client = Socrata(\"data.cityofnewyork.us\",\n",
    "                  APP_TOKEN,\n",
    "                  username = USERNAME,\n",
    "                  password = PASSWORD, timeout =100)\n",
    "\n",
    "results = client.get(\"erm2-nwe9\", select = \"complaint_type,borough,latitude,longitude\", \n",
    "                     where = \"latitude IS NOT NULL AND longitude IS NOT NULL\", limit = 50000)\n",
    "\n",
    "results_df = pd.DataFrame.from_records(results)\n",
    "print(results_df)\n",
    "\n",
    "\n",
    "#get the data to show on map, geomap library or dash library\n",
    "\n",
    "#dash is on top of plotly\n",
    "\n",
    "#characterize the complaints to which borough it is from and how much complaint per borough"
   ]
  },
  {
   "cell_type": "code",
   "execution_count": 12,
   "metadata": {},
   "outputs": [
    {
     "name": "stdout",
     "output_type": "stream",
     "text": [
      "The total number of reports on Electrical =  159\n",
      "\n",
      "There are  40 in Manhattan\n",
      "There are  26 in Bronx\n",
      "There are  29 in Queens\n",
      "There are  41 in Brooklyn\n",
      "There are  23  in Staten Island\n"
     ]
    }
   ],
   "source": [
    "strs = []\n",
    "counter  = [0,0,0,0,0] #Manhattan,Bronx,Queens,Brooklyn,Staten Island\n",
    "count = 0\n",
    "for i, j in results_df.iterrows(): \n",
    "    if(j[0] == \"Electrical\"): \n",
    "        count += 1\n",
    "        if(j[1] == \"MANHATTAN\"):\n",
    "            counter[0] += 1\n",
    "        elif(j[1] == \"BRONX\"):\n",
    "            counter[1] += 1\n",
    "        elif(j[1] == \"QUEENS\"):\n",
    "            counter[2] += 1\n",
    "        elif(j[1] == \"BROOKLYN\"):\n",
    "            counter[3] += 1\n",
    "        elif(j[1] == \"STATEN ISLAND\"):\n",
    "            counter[4] += 1\n",
    "    if((j[0] in strs) == 0):\n",
    "        strs.append(j[0])   \n",
    "print(\"The total number of reports on Electrical = \", count)\n",
    "print()\n",
    "print(\"There are \",counter[0], \"in Manhattan\")\n",
    "print(\"There are \",counter[1], \"in Bronx\")\n",
    "print(\"There are \",counter[2], \"in Queens\")\n",
    "print(\"There are \",counter[3], \"in Brooklyn\")\n",
    "print(\"There are \",counter[4], \" in Staten Island\")\n",
    "            \n",
    "\n",
    "\n"
   ]
  },
  {
   "cell_type": "code",
   "execution_count": 13,
   "metadata": {},
   "outputs": [
    {
     "name": "stdout",
     "output_type": "stream",
     "text": [
      "['Hazardous Materials', 'Graffiti', 'Rodent', 'Other Enforcement', 'DOOR/WINDOW', 'Derelict Vehicles', 'Collection Truck Noise', 'Sanitation Condition', 'General Construction/Plumbing', 'Derelict Bicycle', 'Traffic Signal Condition', 'Taxi Complaint', 'Vacant Lot', 'Litter Basket / Request', 'Water System', 'Water Quality', 'FLOORING/STAIRS', 'Street Light Condition', 'Air Quality', 'Lead', 'Noise', 'Sidewalk Condition', 'Sewer', 'Street Condition', 'ELECTRIC', 'GENERAL', 'HEAT/HOT WATER', 'APPLIANCE', 'PAINT/PLASTER', 'PLUMBING', 'UNSANITARY CONDITION', 'WATER LEAK', 'Building/Use', 'Elevator', 'SAFETY', 'Plumbing', 'Special Projects Inspection Team (SPIT)', 'Water Conservation', 'Missed Collection (All Materials)', 'Dirty Conditions', 'Overflowing Recycling Baskets', 'Dead/Dying Tree', 'Damaged Tree', 'Electronics Waste Appointment', 'Electronics Waste', 'Broken Muni Meter', 'Industrial Waste', 'Unsanitary Animal Pvt Property', 'Blocked Driveway', 'Smoking', 'Adopt-A-Basket', 'Indoor Air Quality', 'Derelict Vehicle', 'Taxi Report', 'New Tree Request', 'Senior Center Complaint', 'BEST/Site Safety', 'Investigations and Discipline (IAD)', 'Non-Residential Heat', 'Unsanitary Pigeon Condition', 'Overgrown Tree/Branches', 'For Hire Vehicle Complaint', 'Asbestos', 'Boilers', 'Street Sign - Damaged', 'Bus Stop Shelter Complaint', 'Standing Water', 'Curb Condition', 'Day Care', 'Unleashed Dog', 'Food Poisoning', 'Noise - Residential', 'Recycling Enforcement', 'Root/Sewer/Sidewalk Condition', 'Overflowing Litter Baskets', 'Illegal Animal Kept as Pet', 'Street Sign - Missing', 'Plant', 'Illegal Parking', 'For Hire Vehicle Report', 'Indoor Sewage', 'Noise - Commercial', 'Cranes and Derricks', 'Electrical', 'Noise - Street/Sidewalk', 'Scaffold Safety', 'Illegal Tree Damage', 'Special Natural Area District (SNAD)', 'Animal Facility - No Permit', 'Noise - Vehicle', 'Noise - Park', 'Panhandling', 'ELEVATOR', 'OUTSIDE BUILDING', 'Emergency Response Team (ERT)', 'Homeless Person Assistance', 'Highway Condition', 'Maintenance or Facility', 'Noise - Helicopter', 'Non-Emergency Police Matter', 'Homeless Encampment', 'Mold', 'Pet Shop', 'School Maintenance', 'Sweeping/Missed', 'Food Establishment', 'Mosquitoes', 'Miscellaneous Categories', 'Unsanitary Animal Facility', 'Illegal Animal Sold', 'City Vehicle Placard Complaint', 'ATF', 'Drinking Water', 'Vending', 'Consumer Complaint', 'Traffic', 'Facades', 'Sweeping/Inadequate', 'Tattooing', 'Drinking', 'Bridge Condition', 'Poison Ivy', 'Animal in a Park', 'Window Guard', 'Street Sign - Dangling', 'Animal Abuse', 'Bus Stop Shelter Placement', 'Found Property', 'FATF', 'Advocate-Commercial Exemptions', 'Calorie Labeling', 'Beach/Pool/Sauna Complaint', 'Municipal Parking Facility', 'Violation of Park Rules', 'DPR Internal']\n"
     ]
    }
   ],
   "source": [
    "print(strs)"
   ]
  },
  {
   "cell_type": "code",
   "execution_count": null,
   "metadata": {},
   "outputs": [],
   "source": []
  }
 ],
 "metadata": {
  "kernelspec": {
   "display_name": "Python 3",
   "language": "python",
   "name": "python3"
  },
  "language_info": {
   "codemirror_mode": {
    "name": "ipython",
    "version": 3
   },
   "file_extension": ".py",
   "mimetype": "text/x-python",
   "name": "python",
   "nbconvert_exporter": "python",
   "pygments_lexer": "ipython3",
   "version": "3.7.4"
  }
 },
 "nbformat": 4,
 "nbformat_minor": 2
}

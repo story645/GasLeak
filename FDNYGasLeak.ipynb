{
 "cells": [
  {
   "cell_type": "code",
   "execution_count": 2,
   "metadata": {},
   "outputs": [],
   "source": [
    "import pandas as pd\n",
    "from sodapy import Socrata\n",
    "from geopy.geocoders import Nominatim\n",
    "import pandas as pd\n",
    "import numpy as np"
   ]
  },
  {
   "cell_type": "code",
   "execution_count": 3,
   "metadata": {},
   "outputs": [
    {
     "output_type": "error",
     "ename": "ModuleNotFoundError",
     "evalue": "No module named 'NYC_opendata_apitoken'",
     "traceback": [
      "\u001b[0;31m---------------------------------------------------------------------------\u001b[0m",
      "\u001b[0;31mModuleNotFoundError\u001b[0m                       Traceback (most recent call last)",
      "\u001b[0;32m<ipython-input-3-7652b41e88bf>\u001b[0m in \u001b[0;36m<module>\u001b[0;34m\u001b[0m\n\u001b[1;32m      1\u001b[0m \u001b[0;32mimport\u001b[0m \u001b[0mimport_ipynb\u001b[0m\u001b[0;34m\u001b[0m\u001b[0;34m\u001b[0m\u001b[0m\n\u001b[0;32m----> 2\u001b[0;31m \u001b[0;32mimport\u001b[0m \u001b[0mNYC_opendata_apitoken\u001b[0m\u001b[0;34m\u001b[0m\u001b[0;34m\u001b[0m\u001b[0m\n\u001b[0m\u001b[1;32m      3\u001b[0m \u001b[0;32mimport\u001b[0m \u001b[0mGoogleMapAPI_Token\u001b[0m\u001b[0;34m\u001b[0m\u001b[0;34m\u001b[0m\u001b[0m\n",
      "\u001b[0;31mModuleNotFoundError\u001b[0m: No module named 'NYC_opendata_apitoken'"
     ]
    }
   ],
   "source": [
    "import import_ipynb\n",
    "import NYC_opendata_apitoken\n",
    "import GoogleMapAPI_Token"
   ]
  },
  {
   "cell_type": "code",
   "execution_count": 1,
   "metadata": {},
   "outputs": [
    {
     "output_type": "error",
     "ename": "NameError",
     "evalue": "name 'Socrata' is not defined",
     "traceback": [
      "\u001b[0;31m---------------------------------------------------------------------------\u001b[0m",
      "\u001b[0;31mNameError\u001b[0m                                 Traceback (most recent call last)",
      "\u001b[0;32m<ipython-input-1-953d4e855005>\u001b[0m in \u001b[0;36m<module>\u001b[0;34m\u001b[0m\n\u001b[0;32m----> 1\u001b[0;31m client = Socrata(\"data.cityofnewyork.us\",\n\u001b[0m\u001b[1;32m      2\u001b[0m                   \u001b[0mNYC_opendata_apitoken\u001b[0m\u001b[0;34m.\u001b[0m\u001b[0mAPP_TOKEN\u001b[0m\u001b[0;34m,\u001b[0m\u001b[0;34m\u001b[0m\u001b[0;34m\u001b[0m\u001b[0m\n\u001b[1;32m      3\u001b[0m                   \u001b[0musername\u001b[0m \u001b[0;34m=\u001b[0m \u001b[0mNYC_opendata_apitoken\u001b[0m\u001b[0;34m.\u001b[0m\u001b[0mUSERNAME\u001b[0m\u001b[0;34m,\u001b[0m\u001b[0;34m\u001b[0m\u001b[0;34m\u001b[0m\u001b[0m\n\u001b[1;32m      4\u001b[0m                   password = NYC_opendata_apitoken.PASSWORD, timeout =100)\n\u001b[1;32m      5\u001b[0m \u001b[0;34m\u001b[0m\u001b[0m\n",
      "\u001b[0;31mNameError\u001b[0m: name 'Socrata' is not defined"
     ]
    }
   ],
   "source": [
    "client = Socrata(\"data.cityofnewyork.us\",\n",
    "                  NYC_opendata_apitoken.APP_TOKEN,\n",
    "                  username = NYC_opendata_apitoken.USERNAME,\n",
    "                  password = NYC_opendata_apitoken.PASSWORD, timeout =100)\n",
    "\n",
    "#results = client.get(\"8m42-w767\", select = \"incident_datetime,alarm_box_borough,zipcode,alarm_box_location\", \n",
    "#                     where = \"incident_classification = 'Utility Emergency - Gas'\", limit = 10)\n",
    "# erm2-nwe9 311 data\n",
    "# 8m42-w767 fire incident\n",
    "\n"
   ]
  },
  {
   "cell_type": "code",
   "execution_count": 4,
   "metadata": {},
   "outputs": [],
   "source": [
    "#results_df = pd.DataFrame.from_records(results)\n",
    "results_df = pd.read_csv(\"FDNY_gas_report.csv\")\n",
    "#results_df.to_csv('FDNY_gas_report.csv', encoding='utf-8',index=False)\n",
    "#print(results_df)\n",
    "\n",
    "#locator = Nominatim(user_agent=\"gasleak\")    \n",
    "#location = locator.geocode(str) \n",
    "#print(location.latitude, location.longitude)\n",
    "res = pd.DataFrame(columns=['incident_datetime', 'alarm_box_borough', 'zipcode','alarm_box_location'])\n",
    "ind = 0\n",
    "for i, j in results_df.iterrows(): #i is index, j is data\n",
    "    #str = j[3] #+ \", NY \"+ j[2]\n",
    "    #print(str)\n",
    "    if j[0][:4] == \"2017\":\n",
    "        res.loc[ind] = results_df.loc[i]\n",
    "        ind += 1\n",
    "res.to_csv('FDNY_2017.csv', encoding='utf-8',index=False)"
   ]
  },
  {
   "cell_type": "code",
   "execution_count": null,
   "metadata": {},
   "outputs": [],
   "source": []
  }
 ],
 "metadata": {
  "kernelspec": {
   "display_name": "Python 3",
   "language": "python",
   "name": "python3"
  },
  "language_info": {
   "codemirror_mode": {
    "name": "ipython",
    "version": 3
   },
   "file_extension": ".py",
   "mimetype": "text/x-python",
   "name": "python",
   "nbconvert_exporter": "python",
   "pygments_lexer": "ipython3",
   "version": "3.7.4-final"
  }
 },
 "nbformat": 4,
 "nbformat_minor": 2
}
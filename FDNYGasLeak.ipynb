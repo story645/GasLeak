{
 "cells": [
  {
   "cell_type": "code",
   "execution_count": 1,
   "metadata": {},
   "outputs": [],
   "source": [
    "import pandas as pd\n",
    "from sodapy import Socrata\n",
    "from geopy.geocoders import Nominatim\n",
    "import pandas as pd\n",
    "import numpy as np"
   ]
  },
  {
   "cell_type": "code",
   "execution_count": 2,
   "metadata": {},
   "outputs": [
    {
     "name": "stdout",
     "output_type": "stream",
     "text": [
      "importing Jupyter notebook from NYC_opendata_apitoken.ipynb\n",
      "im here\n"
     ]
    }
   ],
   "source": [
    "import import_ipynb\n",
    "import NYC_opendata_apitoken\n",
    "import GoogleMapAPI_Token"
   ]
  },
  {
   "cell_type": "code",
   "execution_count": 13,
   "metadata": {},
   "outputs": [
    {
     "name": "stdout",
     "output_type": "stream",
     "text": [
      "             incident_datetime         alarm_box_borough  zipcode  \\\n",
      "0      2018-12-31T15:42:59.000                  BROOKLYN  11212.0   \n",
      "1      2018-12-31T15:42:51.000                    QUEENS  11368.0   \n",
      "2      2018-12-31T15:26:04.000  RICHMOND / STATEN ISLAND  10306.0   \n",
      "3      2018-12-31T15:09:56.000                     BRONX  10473.0   \n",
      "4      2018-12-31T15:05:32.000                     BRONX  10456.0   \n",
      "...                        ...                       ...      ...   \n",
      "22812  2018-01-02T01:34:51.000                    QUEENS  11370.0   \n",
      "22813  2018-01-02T00:28:42.000                    QUEENS  11434.0   \n",
      "22814  2018-01-02T00:21:15.000                    QUEENS  11105.0   \n",
      "22815  2018-01-02T00:15:03.000                 MANHATTAN  10009.0   \n",
      "22816  2018-01-02T00:10:00.000                     BRONX  10456.0   \n",
      "\n",
      "                    alarm_box_location  \n",
      "0                LENOX RD & EAST 96 ST  \n",
      "1                     WALDRON & 108 ST  \n",
      "2           GREELEY AVE AND HYLAN BLVD  \n",
      "3           CASTLE HILL & RANDALL AVES  \n",
      "4      WEBSTER AVE-600' SO. OF E171 ST  \n",
      "...                                ...  \n",
      "22812             31ST AVE AND 84TH ST  \n",
      "22813              144 AVE & LATHAM LA  \n",
      "22814             21ST AVE AND 31ST ST  \n",
      "22815                 AVENUE B & 12 ST  \n",
      "22816             COLLEGE AVE & 167 ST  \n",
      "\n",
      "[22817 rows x 4 columns]\n"
     ]
    }
   ],
   "source": [
    "client = Socrata(\"data.cityofnewyork.us\",\n",
    "                  NYC_opendata_apitoken.APP_TOKEN,\n",
    "                  username = NYC_opendata_apitoken.USERNAME,\n",
    "                  password = NYC_opendata_apitoken.PASSWORD, timeout =100)\n",
    "\n",
    "#results = client.get(\"8m42-w767\", select = \"incident_datetime,alarm_box_borough,zipcode,alarm_box_location\", \n",
    "#                     where = \"incident_classification = 'Utility Emergency - Gas'\", limit = 10)\n",
    "# erm2-nwe9 311 data\n",
    "# 8m42-w767 fire incident\n",
    "\n",
    "#results_df = pd.DataFrame.from_records(results)\n",
    "results_df = pd.read_csv(\"FDNY_gas_report.csv\")\n",
    "#results_df.to_csv('FDNY_gas_report.csv', encoding='utf-8',index=False)\n",
    "#print(results_df)\n",
    "\n",
    "#locator = Nominatim(user_agent=\"gasleak\")    \n",
    "#location = locator.geocode(str) \n",
    "#print(location.latitude, location.longitude)\n",
    "res = pd.DataFrame(columns=['incident_datetime', 'alarm_box_borough', 'zipcode','alarm_box_location'])\n",
    "ind = 0\n",
    "for i, j in results_df.iterrows(): #i is index, j is data\n",
    "    #str = j[3] #+ \", NY \"+ j[2]\n",
    "    #print(str)\n",
    "    if j[0][:4] == \"2018\":\n",
    "        res.loc[ind] = results_df.loc[i]\n",
    "        ind += 1\n",
    "res.to_csv('FDNY_2018.csv', encoding='utf-8',index=False)"
   ]
  },
  {
   "cell_type": "code",
   "execution_count": null,
   "metadata": {},
   "outputs": [],
   "source": []
  },
  {
   "cell_type": "code",
   "execution_count": null,
   "metadata": {},
   "outputs": [],
   "source": []
  }
 ],
 "metadata": {
  "kernelspec": {
   "display_name": "Python 3",
   "language": "python",
   "name": "python3"
  },
  "language_info": {
   "codemirror_mode": {
    "name": "ipython",
    "version": 3
   },
   "file_extension": ".py",
   "mimetype": "text/x-python",
   "name": "python",
   "nbconvert_exporter": "python",
   "pygments_lexer": "ipython3",
   "version": "3.7.4"
  }
 },
 "nbformat": 4,
 "nbformat_minor": 2
}
